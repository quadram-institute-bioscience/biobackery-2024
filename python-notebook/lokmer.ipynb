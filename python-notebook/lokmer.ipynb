{
 "cells": [
  {
   "cell_type": "markdown",
   "metadata": {},
   "source": [
    "# An overview of MetaPhlan and HuMANN results\n",
    "\n"
   ]
  },
  {
   "cell_type": "markdown",
   "metadata": {},
   "source": [
    "## Hostile contamination\n",
    "\n",
    "First, let's check we have the needed files:"
   ]
  },
  {
   "cell_type": "code",
   "execution_count": 77,
   "metadata": {},
   "outputs": [],
   "source": [
    "# import libraries \n",
    "import pandas as pd\n",
    "import seaborn as sns\n",
    "import re\n",
    " \n",
    "# Use remote files\n",
    "metadata_url = 'https://raw.githubusercontent.com/quadram-institute-bioscience/biobakery-2024/main/datasets/lokmer.csv'\n",
    " \n"
   ]
  },
  {
   "cell_type": "markdown",
   "metadata": {},
   "source": [
    "## Metadata\n",
    "\n",
    "Let's import the metadata and try to format in a more useful way"
   ]
  },
  {
   "cell_type": "code",
   "execution_count": 78,
   "metadata": {},
   "outputs": [
    {
     "data": {
      "text/html": [
       "<div>\n",
       "<style scoped>\n",
       "    .dataframe tbody tr th:only-of-type {\n",
       "        vertical-align: middle;\n",
       "    }\n",
       "\n",
       "    .dataframe tbody tr th {\n",
       "        vertical-align: top;\n",
       "    }\n",
       "\n",
       "    .dataframe thead th {\n",
       "        text-align: right;\n",
       "    }\n",
       "</style>\n",
       "<table border=\"1\" class=\"dataframe\">\n",
       "  <thead>\n",
       "    <tr style=\"text-align: right;\">\n",
       "      <th></th>\n",
       "      <th>sample_title</th>\n",
       "      <th>age</th>\n",
       "      <th>sex</th>\n",
       "      <th>location</th>\n",
       "      <th>country</th>\n",
       "    </tr>\n",
       "    <tr>\n",
       "      <th>run_accession</th>\n",
       "      <th></th>\n",
       "      <th></th>\n",
       "      <th></th>\n",
       "      <th></th>\n",
       "      <th></th>\n",
       "    </tr>\n",
       "  </thead>\n",
       "  <tbody>\n",
       "    <tr>\n",
       "      <th>ERR2619707</th>\n",
       "      <td>Cam2013_BAB01</td>\n",
       "      <td>61</td>\n",
       "      <td>male</td>\n",
       "      <td>Bandevouri</td>\n",
       "      <td>Cameroon</td>\n",
       "    </tr>\n",
       "    <tr>\n",
       "      <th>ERR2619708</th>\n",
       "      <td>Cam2013_BAB04</td>\n",
       "      <td>41</td>\n",
       "      <td>male</td>\n",
       "      <td>Bidou</td>\n",
       "      <td>Cameroon</td>\n",
       "    </tr>\n",
       "    <tr>\n",
       "      <th>ERR2619709</th>\n",
       "      <td>Cam2013_BAB06</td>\n",
       "      <td>49</td>\n",
       "      <td>female</td>\n",
       "      <td>Bidou</td>\n",
       "      <td>Cameroon</td>\n",
       "    </tr>\n",
       "    <tr>\n",
       "      <th>ERR2619710</th>\n",
       "      <td>Cam2013_BAB07</td>\n",
       "      <td>57</td>\n",
       "      <td>male</td>\n",
       "      <td>Bidou</td>\n",
       "      <td>Cameroon</td>\n",
       "    </tr>\n",
       "    <tr>\n",
       "      <th>ERR2619711</th>\n",
       "      <td>Cam2013_BAB08</td>\n",
       "      <td>53</td>\n",
       "      <td>female</td>\n",
       "      <td>Bidou</td>\n",
       "      <td>Cameroon</td>\n",
       "    </tr>\n",
       "  </tbody>\n",
       "</table>\n",
       "</div>"
      ],
      "text/plain": [
       "                sample_title  age     sex    location   country\n",
       "run_accession                                                  \n",
       "ERR2619707     Cam2013_BAB01   61    male  Bandevouri  Cameroon\n",
       "ERR2619708     Cam2013_BAB04   41    male       Bidou  Cameroon\n",
       "ERR2619709     Cam2013_BAB06   49  female       Bidou  Cameroon\n",
       "ERR2619710     Cam2013_BAB07   57    male       Bidou  Cameroon\n",
       "ERR2619711     Cam2013_BAB08   53  female       Bidou  Cameroon"
      ]
     },
     "execution_count": 78,
     "metadata": {},
     "output_type": "execute_result"
    }
   ],
   "source": [
    "metadataFullDf = pd.read_csv(metadata_url)\n",
    "metadataFullDf.set_index('run_accession', inplace=True)\n",
    "cols = ['sample_title', 'sample_description']\n",
    "\n",
    "metadataDf = metadataFullDf[cols]\n",
    "\n",
    "# Extracting the columns from the sample_description column\n",
    "# using regular expressions\n",
    "extracted_data = metadataDf['sample_description'].str.extract(r'Faecal metagenome of a (\\d+) old (female|male) from ([^,]+), (\\w+)')\n",
    "extracted_data.columns = ['age', 'sex', 'location', 'country']\n",
    "\n",
    "# Concatenating the extracted columns back to the original DataFrame\n",
    "metadataDf = pd.concat([metadataDf, extracted_data], axis=1)\n",
    "metadataDf.drop('sample_description', axis=1, inplace=True)\n",
    "\n",
    "# We extracted pieces of strings, but age is numbers\n",
    "metadataDf['age'] = pd.to_numeric(metadataDf['age'])\n",
    "# Display the DataFrame\n",
    "metadataDf.head()\n",
    " "
   ]
  },
  {
   "cell_type": "markdown",
   "metadata": {},
   "source": [
    "It's always a good idea to start exploring the metadata, checking for missing values etc. In our case we didn't have any, but we can now see how the dataset looks like"
   ]
  },
  {
   "cell_type": "code",
   "execution_count": 79,
   "metadata": {},
   "outputs": [
    {
     "data": {
      "text/plain": [
       "43.859649122807014"
      ]
     },
     "execution_count": 79,
     "metadata": {},
     "output_type": "execute_result"
    }
   ],
   "source": [
    "# How many % females?\n",
    "female_ratio = (metadataDf['sex'] == 'female').mean() * 100\n",
    "female_ratio\n"
   ]
  },
  {
   "cell_type": "code",
   "execution_count": 80,
   "metadata": {},
   "outputs": [
    {
     "data": {
      "text/plain": [
       "location\n",
       "Ebodié          33.333333\n",
       "Bandevouri      17.543860\n",
       "Afan Essokié    15.789474\n",
       "Akak            14.035088\n",
       "Bidou           10.526316\n",
       "Makouvé          5.263158\n",
       "Ndtoua           3.508772\n",
       "Name: proportion, dtype: float64"
      ]
     },
     "execution_count": 80,
     "metadata": {},
     "output_type": "execute_result"
    }
   ],
   "source": [
    "# How many cities? Display country, percentage in descending order\n",
    "city_counts = metadataDf['location'].value_counts(normalize=True) * 100\n",
    "city_counts"
   ]
  },
  {
   "cell_type": "markdown",
   "metadata": {},
   "source": [
    "### Plotting age distribution\n",
    "\n",
    "Let's make our first plot using the \"age\" column"
   ]
  },
  {
   "cell_type": "code",
   "execution_count": 85,
   "metadata": {},
   "outputs": [
    {
     "data": {
      "text/plain": [
       "[Text(0.5, 1.0, 'Age Distribution'),\n",
       " Text(0.5, 0, 'Age'),\n",
       " Text(0, 0.5, 'Frequency')]"
      ]
     },
     "execution_count": 85,
     "metadata": {},
     "output_type": "execute_result"
    },
    {
     "data": {
      "image/png": "[encoded data removed]",
      "text/plain": [
       "<Figure size 1000x500 with 1 Axes>"
      ]
     },
     "metadata": {},
     "output_type": "display_data"
    }
   ],
   "source": [
    "\n",
    "# First, let's sort age\n",
    "metadataDf = metadataDf.sort_values(by='age')\n",
    " \n",
    "\n",
    "# Plotting the histogram\n",
    " \n",
    "sns.histplot(metadataDf['age'], kde=False, bins=20).set(\n",
    "    title='Age Distribution', xlabel='Age', ylabel='Frequency')\n",
    " \n"
   ]
  },
  {
   "cell_type": "code",
   "execution_count": 90,
   "metadata": {},
   "outputs": [
    {
     "data": {
      "text/plain": [
       "(12, 17, 28)"
      ]
     },
     "execution_count": 90,
     "metadata": {},
     "output_type": "execute_result"
    }
   ],
   "source": [
    "# Can we now arbitrarily bin the samples in three groups after seeing the plot?\n",
    "young_adults = (metadataDf['age'] < 40).sum()\n",
    "\n",
    "senior = (metadataDf['age'] > 60).sum()\n",
    "\n",
    "other = len(metadataDf) - young_adults - senior\n",
    "young_adults, senior, other"
   ]
  },
  {
   "cell_type": "markdown",
   "metadata": {},
   "source": [
    "## Import the metaphlan table"
   ]
  },
  {
   "cell_type": "code",
   "execution_count": null,
   "metadata": {},
   "outputs": [],
   "source": [
    "mpa_url = 'https://raw.githubusercontent.com/quadram-institute-bioscience/biobakery-2024/main/datasets/lokmer_metaphlan.tsv.gz'\n",
    "mpaDf = pd.read_csv(mpa_url, compression='gzip', sep='\\t', header=1)\n",
    "mpaDf.set_index('clade_name', inplace=True)\n",
    "mpaDf.head()"
   ]
  }
 ],
 "metadata": {
  "kernelspec": {
   "display_name": "pystart",
   "language": "python",
   "name": "python3"
  },
  "language_info": {
   "codemirror_mode": {
    "name": "ipython",
    "version": 3
   },
   "file_extension": ".py",
   "mimetype": "text/x-python",
   "name": "python",
   "nbconvert_exporter": "python",
   "pygments_lexer": "ipython3",
   "version": "3.10.14"
  }
 },
 "nbformat": 4,
 "nbformat_minor": 2
}
